{
 "cells": [
  {
   "cell_type": "markdown",
   "metadata": {},
   "source": [
    "![image info](https://raw.githubusercontent.com/albahnsen/MIAD_ML_and_NLP/main/images/banner_1.png)"
   ]
  },
  {
   "cell_type": "markdown",
   "metadata": {},
   "source": [
    "# Taller: Construcción e implementación de árboles de decisión y métodos de ensamblaje\n",
    "\n",
    "En este taller podrá poner en práctica los sus conocimientos sobre construcción e implementación de árboles de decisión y métodos de ensamblajes. El taller está constituido por 9 puntos, 5 relacionados con árboles de decisión (parte A) y 4 con métodos de ensamblaje (parte B)."
   ]
  },
  {
   "cell_type": "markdown",
   "metadata": {},
   "source": [
    "## Parte A - Árboles de decisión\n",
    "\n",
    "En esta parte del taller se usará el conjunto de datos de Capital Bikeshare de Kaggle, donde cada observación representa el alquiler de bicicletas durante una hora y día determinado. Para más detalles puede visitar los siguientes enlaces: [datos](https://archive.ics.uci.edu/ml/machine-learning-databases/00275/Bike-Sharing-Dataset.zip), [dicccionario de datos](https://archive.ics.uci.edu/ml/datasets/Bike+Sharing+Dataset#)."
   ]
  },
  {
   "cell_type": "markdown",
   "metadata": {},
   "source": [
    "### Datos prestamo de bicicletas"
   ]
  },
  {
   "cell_type": "code",
   "execution_count": 3,
   "metadata": {},
   "outputs": [],
   "source": [
    "import warnings\n",
    "warnings.filterwarnings('ignore')"
   ]
  },
  {
   "cell_type": "code",
   "execution_count": 5,
   "metadata": {},
   "outputs": [],
   "source": [
    "# Importación de librerías\n",
    "%matplotlib inline\n",
    "import pandas as pd\n",
    "import numpy as np\n",
    "from sklearn.model_selection import cross_val_score\n",
    "from sklearn.linear_model import LinearRegression\n",
    "from sklearn.tree import DecisionTreeRegressor, export_graphviz"
   ]
  },
  {
   "cell_type": "code",
   "execution_count": 6,
   "metadata": {},
   "outputs": [
    {
     "data": {
      "text/html": [
       "<div>\n",
       "<style scoped>\n",
       "    .dataframe tbody tr th:only-of-type {\n",
       "        vertical-align: middle;\n",
       "    }\n",
       "\n",
       "    .dataframe tbody tr th {\n",
       "        vertical-align: top;\n",
       "    }\n",
       "\n",
       "    .dataframe thead th {\n",
       "        text-align: right;\n",
       "    }\n",
       "</style>\n",
       "<table border=\"1\" class=\"dataframe\">\n",
       "  <thead>\n",
       "    <tr style=\"text-align: right;\">\n",
       "      <th></th>\n",
       "      <th>season</th>\n",
       "      <th>holiday</th>\n",
       "      <th>workingday</th>\n",
       "      <th>weather</th>\n",
       "      <th>temp</th>\n",
       "      <th>atemp</th>\n",
       "      <th>humidity</th>\n",
       "      <th>windspeed</th>\n",
       "      <th>casual</th>\n",
       "      <th>registered</th>\n",
       "      <th>total</th>\n",
       "      <th>hour</th>\n",
       "    </tr>\n",
       "    <tr>\n",
       "      <th>datetime</th>\n",
       "      <th></th>\n",
       "      <th></th>\n",
       "      <th></th>\n",
       "      <th></th>\n",
       "      <th></th>\n",
       "      <th></th>\n",
       "      <th></th>\n",
       "      <th></th>\n",
       "      <th></th>\n",
       "      <th></th>\n",
       "      <th></th>\n",
       "      <th></th>\n",
       "    </tr>\n",
       "  </thead>\n",
       "  <tbody>\n",
       "    <tr>\n",
       "      <th>2011-01-01 00:00:00</th>\n",
       "      <td>1</td>\n",
       "      <td>0</td>\n",
       "      <td>0</td>\n",
       "      <td>1</td>\n",
       "      <td>9.84</td>\n",
       "      <td>14.395</td>\n",
       "      <td>81</td>\n",
       "      <td>0.0</td>\n",
       "      <td>3</td>\n",
       "      <td>13</td>\n",
       "      <td>16</td>\n",
       "      <td>0</td>\n",
       "    </tr>\n",
       "    <tr>\n",
       "      <th>2011-01-01 01:00:00</th>\n",
       "      <td>1</td>\n",
       "      <td>0</td>\n",
       "      <td>0</td>\n",
       "      <td>1</td>\n",
       "      <td>9.02</td>\n",
       "      <td>13.635</td>\n",
       "      <td>80</td>\n",
       "      <td>0.0</td>\n",
       "      <td>8</td>\n",
       "      <td>32</td>\n",
       "      <td>40</td>\n",
       "      <td>1</td>\n",
       "    </tr>\n",
       "    <tr>\n",
       "      <th>2011-01-01 02:00:00</th>\n",
       "      <td>1</td>\n",
       "      <td>0</td>\n",
       "      <td>0</td>\n",
       "      <td>1</td>\n",
       "      <td>9.02</td>\n",
       "      <td>13.635</td>\n",
       "      <td>80</td>\n",
       "      <td>0.0</td>\n",
       "      <td>5</td>\n",
       "      <td>27</td>\n",
       "      <td>32</td>\n",
       "      <td>2</td>\n",
       "    </tr>\n",
       "    <tr>\n",
       "      <th>2011-01-01 03:00:00</th>\n",
       "      <td>1</td>\n",
       "      <td>0</td>\n",
       "      <td>0</td>\n",
       "      <td>1</td>\n",
       "      <td>9.84</td>\n",
       "      <td>14.395</td>\n",
       "      <td>75</td>\n",
       "      <td>0.0</td>\n",
       "      <td>3</td>\n",
       "      <td>10</td>\n",
       "      <td>13</td>\n",
       "      <td>3</td>\n",
       "    </tr>\n",
       "    <tr>\n",
       "      <th>2011-01-01 04:00:00</th>\n",
       "      <td>1</td>\n",
       "      <td>0</td>\n",
       "      <td>0</td>\n",
       "      <td>1</td>\n",
       "      <td>9.84</td>\n",
       "      <td>14.395</td>\n",
       "      <td>75</td>\n",
       "      <td>0.0</td>\n",
       "      <td>0</td>\n",
       "      <td>1</td>\n",
       "      <td>1</td>\n",
       "      <td>4</td>\n",
       "    </tr>\n",
       "  </tbody>\n",
       "</table>\n",
       "</div>"
      ],
      "text/plain": [
       "                     season  holiday  workingday  weather  temp   atemp  \\\n",
       "datetime                                                                  \n",
       "2011-01-01 00:00:00       1        0           0        1  9.84  14.395   \n",
       "2011-01-01 01:00:00       1        0           0        1  9.02  13.635   \n",
       "2011-01-01 02:00:00       1        0           0        1  9.02  13.635   \n",
       "2011-01-01 03:00:00       1        0           0        1  9.84  14.395   \n",
       "2011-01-01 04:00:00       1        0           0        1  9.84  14.395   \n",
       "\n",
       "                     humidity  windspeed  casual  registered  total  hour  \n",
       "datetime                                                                   \n",
       "2011-01-01 00:00:00        81        0.0       3          13     16     0  \n",
       "2011-01-01 01:00:00        80        0.0       8          32     40     1  \n",
       "2011-01-01 02:00:00        80        0.0       5          27     32     2  \n",
       "2011-01-01 03:00:00        75        0.0       3          10     13     3  \n",
       "2011-01-01 04:00:00        75        0.0       0           1      1     4  "
      ]
     },
     "execution_count": 6,
     "metadata": {},
     "output_type": "execute_result"
    }
   ],
   "source": [
    "# Lectura de la información de archivo .csv\n",
    "bikes = pd.read_csv('https://raw.githubusercontent.com/davidzarruk/MIAD_ML_NLP_2023/main/datasets/bikeshare.csv', index_col='datetime', parse_dates=True)\n",
    "\n",
    "# Renombrar variable \"count\" a \"total\"\n",
    "bikes.rename(columns={'count':'total'}, inplace=True)\n",
    "\n",
    "# Crear la hora como una variable \n",
    "bikes['hour'] = bikes.index.hour\n",
    "\n",
    "# Visualización de los datos\n",
    "bikes.head()"
   ]
  },
  {
   "cell_type": "markdown",
   "metadata": {},
   "source": [
    "### Punto 1 - Análisis descriptivo\n",
    "\n",
    "Ejecute las celdas 1.1 y 1.2. A partir de los resultados realice un análisis descriptivo sobre las variables \"season\" y \"hour\", escriba sus inferencias sobre los datos. Para complementar su análisis puede usar métricas como máximo, mínimo, percentiles entre otros."
   ]
  },
  {
   "cell_type": "code",
   "execution_count": 9,
   "metadata": {},
   "outputs": [
    {
     "data": {
      "text/plain": [
       "season\n",
       "1    116.343261\n",
       "2    215.251372\n",
       "3    234.417124\n",
       "4    198.988296\n",
       "Name: total, dtype: float64"
      ]
     },
     "execution_count": 9,
     "metadata": {},
     "output_type": "execute_result"
    }
   ],
   "source": [
    "# Celda 1.1\n",
    "bikes.groupby('season').total.mean()"
   ]
  },
  {
   "cell_type": "code",
   "execution_count": 11,
   "metadata": {
    "scrolled": true
   },
   "outputs": [
    {
     "data": {
      "text/plain": [
       "hour\n",
       "0      55.138462\n",
       "1      33.859031\n",
       "2      22.899554\n",
       "3      11.757506\n",
       "4       6.407240\n",
       "5      19.767699\n",
       "6      76.259341\n",
       "7     213.116484\n",
       "8     362.769231\n",
       "9     221.780220\n",
       "10    175.092308\n",
       "11    210.674725\n",
       "12    256.508772\n",
       "13    257.787281\n",
       "14    243.442982\n",
       "15    254.298246\n",
       "16    316.372807\n",
       "17    468.765351\n",
       "18    430.859649\n",
       "19    315.278509\n",
       "20    228.517544\n",
       "21    173.370614\n",
       "22    133.576754\n",
       "23     89.508772\n",
       "Name: total, dtype: float64"
      ]
     },
     "execution_count": 11,
     "metadata": {},
     "output_type": "execute_result"
    }
   ],
   "source": [
    "# Celda 1.2\n",
    "bikes.groupby('hour').total.mean()"
   ]
  },
  {
   "cell_type": "code",
   "execution_count": 19,
   "metadata": {
    "scrolled": true
   },
   "outputs": [
    {
     "name": "stdout",
     "output_type": "stream",
     "text": [
      "Estadísticas descriptivas por temporada determinada:\n",
      "              mean         std  min  max  median  count   25%    75%\n",
      "season                                                              \n",
      "1       116.343261  125.273974    1  801    78.0   2686  24.0  164.0\n",
      "2       215.251372  192.007843    1  873   172.0   2733  49.0  321.0\n",
      "3       234.417124  197.151001    1  977   195.0   2733  68.0  347.0\n",
      "4       198.988296  177.622409    1  948   161.0   2734  51.0  294.0\n"
     ]
    }
   ],
   "source": [
    "# Estadísticas descriptivas por temporada determinada\n",
    "estadisticas_temporada = bikes.groupby('season')['total'].agg([\n",
    "    'mean', 'std', 'min', 'max', 'median', 'count',\n",
    "    lambda x: np.percentile(x, 25),\n",
    "    lambda x: np.percentile(x, 75)\n",
    "])\n",
    "estadisticas_temporada.rename(columns={'<lambda_0>': '25%', '<lambda_1>': '75%'}, inplace=True)\n",
    "\n",
    "print(\"Estadísticas descriptivas por temporada determinada:\")\n",
    "print(estadisticas_temporada)"
   ]
  },
  {
   "cell_type": "markdown",
   "metadata": {},
   "source": [
    "Al validar las estadísticas agrupadas por la variable (season) se encuentra que la temporada 3  es la que presenta un promedio más alto de bicicletas alquiladas. seguida por la temporda 2, sobre esto se puede inferir que corresponden a temporadas de verano y primavera en las cuales al ser más calidas se puede incentivar más el uso de bicicletas. También es posible observar que en los percentiles 25% y 75% los alquileres de bicicletas se encuentran en un rango más alto reforzando la idea de que estas son las temporadas con mayor actividad.\n",
    "\n",
    "Por otro lado la temorada 1 presenta un menor promedio de uso que puede interpretarse como la temporada de invierno donde las condiciones del clima no son tan favorables para el uso de bicicleta."
   ]
  },
  {
   "cell_type": "code",
   "execution_count": 15,
   "metadata": {},
   "outputs": [
    {
     "name": "stdout",
     "output_type": "stream",
     "text": [
      "\n",
      "Estadísticas descriptivas por hora del día:\n",
      "            mean         std  min  max  median  count     25%     75%\n",
      "hour                                                                 \n",
      "0      55.138462   43.620012    2  283    41.0    455   24.00   74.50\n",
      "1      33.859031   34.112105    1  168    19.0    454   11.00   46.00\n",
      "2      22.899554   26.110267    1  119    11.0    448    5.00   32.00\n",
      "3      11.757506   12.666442    1   66     6.0    433    3.00   15.00\n",
      "4       6.407240    4.217633    1   28     6.0    442    3.00    9.00\n",
      "5      19.767699   12.784293    1   57    19.0    452    8.00   29.00\n",
      "6      76.259341   54.745333    1  213    75.0    455   24.50  118.00\n",
      "7     213.116484  159.207044    1  596   208.0    455   63.00  334.00\n",
      "8     362.769231  231.723065    8  839   392.0    455  133.50  563.50\n",
      "9     221.780220   92.099209   14  414   217.0    455  161.00  294.50\n",
      "10    175.092308  101.807629   17  539   149.0    455  106.00  218.50\n",
      "11    210.674725  127.444294   10  647   183.0    455  123.00  265.50\n",
      "12    256.508772  143.881880    3  757   234.5    456  157.00  332.00\n",
      "13    257.787281  149.167185   11  729   226.5    456  154.00  329.00\n",
      "14    243.442982  147.563199   12  730   212.0    456  144.00  311.25\n",
      "15    254.298246  144.235670    7  724   232.0    456  154.00  331.00\n",
      "16    316.372807  145.664786   11  783   309.5    456  211.75  421.00\n",
      "17    468.765351  223.775485   15  970   480.5    456  277.00  608.50\n",
      "18    430.859649  219.908138   23  977   422.5    456  240.75  564.00\n",
      "19    315.278509  156.641732   11  743   312.5    456  190.00  416.00\n",
      "20    228.517544  116.411565   11  551   224.0    456  136.75  302.00\n",
      "21    173.370614   87.629319    6  584   171.5    456  103.50  230.00\n",
      "22    133.576754   69.844495    9  502   129.0    456   80.00  175.00\n",
      "23     89.508772   51.638004    4  256    80.0    456   52.75  123.00\n"
     ]
    }
   ],
   "source": [
    "# Estadísticas descriptivas por hora\n",
    "estadisticas_hora = bikes.groupby('hour')['total'].agg([\n",
    "    'mean', 'std', 'min', 'max', 'median', 'count',\n",
    "    lambda x: np.percentile(x, 25),\n",
    "    lambda x: np.percentile(x, 75)\n",
    "])\n",
    "estadisticas_hora.rename(columns={'<lambda_0>': '25%', '<lambda_1>': '75%'}, inplace=True)\n",
    "\n",
    "print(\"\\nEstadísticas descriptivas por hora del día:\")\n",
    "print(estadisticas_hora)"
   ]
  },
  {
   "cell_type": "markdown",
   "metadata": {},
   "source": [
    "Al validar las estadísticas agrupadas por la variable (hour), se encuentra que hay 2 rangos de horas principales en el promedio de uso de los alquiles de bicicletas, el primero se encuentra entre las 7:00 y 9:00 a.m. y el otro rango es notorio entre las 4:00 y 7:00 p.m., esto puede interpretarse como las horas pico en las cuales las personas usan la bicicleta para desplazarse hacia y desde sus sitios de trabajo o de estudio.\n",
    "\n",
    "Como puede esperarse, las horas de la madrugada entre las 0:00 y 5:00 a.m presentan un uso mucho menor. \n",
    "\n",
    "También es posible apreciar que la desviación estándar en las horas pico es muy alta mostrando una mayor variabilidad en esas horas del día lo cual puede estar explicado por factores externos como elclima o el día de la semana.\n",
    "\n",
    "Todo lo anterior muestra que el uso de las bicicletas cambia de acuerdo a la temporada y hora del día."
   ]
  },
  {
   "cell_type": "markdown",
   "metadata": {},
   "source": [
    "### Punto 2 - Análisis de gráficos\n",
    "\n",
    "Primero ejecute la celda 2.1 y asegúrese de comprender el código y el resultado. Luego, en cada una de celdas 2.2 y 2.3 escriba un código que genere una gráfica del número de bicicletas rentadas promedio para cada valor de la variable \"hour\" (hora) cuando la variable \"season\" es igual a 1 (invierno) e igual a 3 (verano), respectivamente. Analice y escriba sus hallazgos."
   ]
  },
  {
   "cell_type": "code",
   "execution_count": 21,
   "metadata": {},
   "outputs": [
    {
     "data": {
      "text/plain": [
       "<Axes: xlabel='hour'>"
      ]
     },
     "execution_count": 21,
     "metadata": {},
     "output_type": "execute_result"
    },
    {
     "data": {
      "image/png": "[encoded data removed]",
      "text/plain": [
       "<Figure size 640x480 with 1 Axes>"
      ]
     },
     "metadata": {},
     "output_type": "display_data"
    }
   ],
   "source": [
    "# Celda 2.1 - rentas promedio para cada valor de la variable \"hour\"\n",
    "bikes.groupby('hour').total.mean().plot()"
   ]
  },
  {
   "cell_type": "code",
   "execution_count": 35,
   "metadata": {},
   "outputs": [
    {
     "data": {
      "image/png": "[encoded data removed]",
      "text/plain": [
       "<Figure size 800x400 with 1 Axes>"
      ]
     },
     "metadata": {},
     "output_type": "display_data"
    }
   ],
   "source": [
    "# Celda 2.2 - \"season\"=1 escriba su código y hallazgos \n",
    "\n",
    "import matplotlib.pyplot as plt  \n",
    "\n",
    "# Filtro solo los datos del invierno\n",
    "datos_invierno = bikes[bikes['season'] == 1]\n",
    "\n",
    "# Calcular el promedio por hora\n",
    "promedio_hora_invierno = datos_invierno.groupby('hour')['total'].mean()\n",
    "\n",
    "# Generación de la gráfica por hora en invierno\n",
    "\n",
    "plt.figure(figsize=(8,4))\n",
    "plt.plot(promedio_hora_invierno, marker='o', color='green')\n",
    "plt.title('Promedio de alquiler de bicicletas por hora en Temporada de Invierno')\n",
    "plt.xlabel('Hora del día')\n",
    "plt.ylabel('Promedio bicicletas rentadas')\n",
    "plt.grid(True)\n",
    "plt.show()\n"
   ]
  },
  {
   "cell_type": "markdown",
   "metadata": {},
   "source": [
    "En la gráfica del promedio de alquiler de Bicicletas en la temporada de invierno, se observan 2 picos principales en el uso de bicicletas, el primero cerca de las 8:00 a.m y el otro entre las 5 y 6 p.m, esto indica que apesar del clima frio de invierno, muchas personas siguen usando la bicicleta como medio de transmporte para ir y volver de su trabajo o lugar de estudio.\n"
   ]
  },
  {
   "cell_type": "code",
   "execution_count": 37,
   "metadata": {},
   "outputs": [
    {
     "data": {
      "image/png": "[encoded data removed]",
      "text/plain": [
       "<Figure size 800x400 with 1 Axes>"
      ]
     },
     "metadata": {},
     "output_type": "display_data"
    }
   ],
   "source": [
    "# Celda 2.3 - \"season\"=3 escriba su código y hallazgos \n",
    "\n",
    "# Filtro los datos de verano\n",
    "datos_verano = bikes[bikes['season'] == 3]\n",
    "\n",
    "# Calcular el promedio por hora\n",
    "promedio_hora_verano = datos_verano.groupby('hour')['total'].mean()\n",
    "\n",
    "# Generación la gráfica por hora en para verano\n",
    "\n",
    "plt.figure(figsize=(8,4))\n",
    "plt.plot(promedio_hora_verano, marker='o', color='red')\n",
    "plt.title('Promedio de alquiler de bicicletas por hora en Verano')\n",
    "plt.xlabel('Hora del día')\n",
    "plt.ylabel('Promedio de bicicletas rentadas')\n",
    "plt.grid(True)\n",
    "plt.savefig('bicicletas_verano.png', dpi=300)\n",
    "plt.show()\n"
   ]
  },
  {
   "cell_type": "markdown",
   "metadata": {},
   "source": [
    "En la gráfica del promedio de alquiler de Bicicletas en la temporada de Verano, también se observan 2 picos principales en el uso de bicicletas, el primero cerca de las 8:00 a.m y el otro entre las 5 y 6 p.m, sin embargo el número promedio de bicicletas rentadas en verano es muco mas alto que en temporada de Invierno, inclusive en horas de la tarde existe una mayor actividad."
   ]
  },
  {
   "cell_type": "markdown",
   "metadata": {},
   "source": [
    "### Punto 3 - Regresión lineal\n",
    "En la celda 3 ajuste un modelo de regresión lineal a todo el conjunto de datos, utilizando \"total\" como variable de respuesta y \"season\" y \"hour\" como las únicas variables predictoras, teniendo en cuenta que la variable \"season\" es categórica. Luego, imprima los coeficientes e interprételos. ¿Cuáles son las limitaciones de la regresión lineal en este caso?"
   ]
  },
  {
   "cell_type": "code",
   "execution_count": 40,
   "metadata": {},
   "outputs": [],
   "source": [
    "# Celda 3\n",
    "\n",
    "# Importación de librerías\n",
    "from sklearn.linear_model import LinearRegression\n",
    "import pandas as pd"
   ]
  },
  {
   "cell_type": "code",
   "execution_count": 50,
   "metadata": {},
   "outputs": [],
   "source": [
    "# Se transforma la variable categórica (season) en una variable dummy \n",
    "datos_con_dummies = pd.get_dummies(bikes, columns=['season'], drop_first=True)\n",
    "\n",
    "# Definir las variables predictoras y la variable objetivo\n",
    "X = datos_con_dummies[['hour', 'season_2', 'season_3', 'season_4']]\n",
    "y = datos_con_dummies['total']"
   ]
  },
  {
   "cell_type": "code",
   "execution_count": 46,
   "metadata": {},
   "outputs": [],
   "source": [
    "# Ajustar el modelo de regresión lineal\n",
    "\n",
    "modelo_lineal = LinearRegression()\n",
    "modelo_lineal.fit(X, y)\n",
    "\n",
    "# Extraigo coeficientes e intercepto\n",
    "coeficientes = pd.DataFrame({\n",
    "    'Variable': ['Hora del día', 'Primavera (season_2)', 'Verano (season_3)', 'Otoño (season_4)'],\n",
    "    'Coeficiente': modelo_lineal.coef_\n",
    "})\n",
    "\n",
    "intercepto = modelo_lineal.intercept_"
   ]
  },
  {
   "cell_type": "code",
   "execution_count": 48,
   "metadata": {},
   "outputs": [
    {
     "name": "stdout",
     "output_type": "stream",
     "text": [
      "Intercepto del modelo: -6.430262462305961\n",
      "\n",
      "Coeficientes asociados a cada variable:\n",
      "               Variable  Coeficiente\n",
      "0          Hora del día    10.545206\n",
      "1  Primavera (season_2)   100.317232\n",
      "2     Verano (season_3)   119.467550\n",
      "3      Otoño (season_4)    84.083118\n"
     ]
    }
   ],
   "source": [
    "# Imprimir coeficientes de los resultados\n",
    "print('Intercepto del modelo:', intercepto)\n",
    "print('\\nCoeficientes asociados a cada variable:')\n",
    "print(coeficientes)"
   ]
  },
  {
   "cell_type": "markdown",
   "metadata": {},
   "source": [
    "El modelo de regresión lineal ajustado utiliza la variable (hour) y las estaciones del año como variables (dummy) para poder predecir la cantidad total de bicicletas rentadas; como el coeficiente de (hour) es positivo se encuentra que en promedio a medida que va avanzando el día la cantidad de bicicletas rentadas tiende a crecer, sin embargo esta relación no es lineal ya que como se evidenció anteriormente hay horas pico y horas valle.\n",
    "\n",
    "En cuanto a las estaciones del año, como la variable (season) se transformó en dummie y se omitió para este ejercicio la temporada base (invierno), los coeficientes generados se interpretan con base en invierno: \n",
    "\n",
    "* Un coheficiente positivo en season 3 (verano) indica que en promedio se alquilan más bicicletas en vaerno que que invierno manteniendo constante la hora\n",
    "\n",
    "Esto se confirma con el análisis del punto anterior, el verano es la estación con mayor actividad\n",
    "\n",
    "¿Cuáles son las limitaciones de la regresión lineal en este caso?\n",
    "En este caso se encuentra que no existe un comportamiento lineal por que el alquiler de bicicletas por hora tiene picos y valles lo cual no es completamente capturado mediante una regresión lineal por que el efecto de la hora puede depender de la estación.\n",
    "Por otro lado no se contemplan otras variables que pueden tener incidencia como el clima, la temperatura, entre otros.\n"
   ]
  },
  {
   "cell_type": "code",
   "execution_count": null,
   "metadata": {},
   "outputs": [],
   "source": []
  },
  {
   "cell_type": "markdown",
   "metadata": {},
   "source": [
    "### Punto 4 - Árbol de decisión manual\n",
    "En la celda 4 cree un árbol de decisiones para pronosticar la variable \"total\" iterando **manualmente** sobre las variables \"hour\" y  \"season\". El árbol debe tener al menos 6 nodos finales."
   ]
  },
  {
   "cell_type": "code",
   "execution_count": 90,
   "metadata": {},
   "outputs": [],
   "source": [
    "# Celda 4\n",
    "\n",
    "# Árbol de decisión manual - Predicción sobre las variables \"hour\" y \"season\".\n",
    "\n",
    "def arbol_decision_manual(fila):\n",
    "    # raíz: división por hora\n",
    "    if fila['hour'] < 8:\n",
    "        \n",
    "        # Subrama 1: hora menor a 8\n",
    "        if fila['season'] == 1:\n",
    "            return 100  # Nodo 1\n",
    "        elif fila['season'] == 3:\n",
    "            return 150  # Nodo 2\n",
    "        else:\n",
    "            return 120  # Nodo 3\n",
    "    else:\n",
    "        # Subrama 2: hora mayor o igual a 8\n",
    "        if fila['hour'] < 17:\n",
    "            if fila['season'] == 3:\n",
    "                return 300  # Nodo 4\n",
    "            elif fila['season'] == 4:\n",
    "                return 250  # Nodo 5\n",
    "            else:\n",
    "                return 220  # Nodo 6\n",
    "        else:\n",
    "            if fila['season'] == 2:\n",
    "                return 180  # Nodo 7\n",
    "            else:\n",
    "                return 200  # Nodo 8\n",
    "\n"
   ]
  },
  {
   "cell_type": "markdown",
   "metadata": {},
   "source": [
    "Inicialmente se construyó un árbol de decisión simple usando divisiones manuales basadas en la hora del día (hour) y la estación (season). Empecé dividiendo entre horas antes y después de las 8 a.m., y luego se fué ajustando según la estación y el rango horario.\n",
    "\n",
    "Cada hoja del árbol retorna un valor fijo estimado de total, que muestra el número promedio de bicicletas alquiladas en ese nodo. Los valores aproximaciones basadas en las tendencias vistas en los análisis de los puntos anteriores."
   ]
  },
  {
   "cell_type": "code",
   "execution_count": 58,
   "metadata": {},
   "outputs": [],
   "source": [
    "# Aplico el árbol manual para predecir el total\n",
    "bikes['pred_manual'] = bikes.apply(arbol_decision_manual, axis=1)\n"
   ]
  },
  {
   "cell_type": "markdown",
   "metadata": {},
   "source": [
    "### Punto 5 - Árbol de decisión con librería\n",
    "En la celda 5 entrene un árbol de decisiones con la **librería sklearn**, usando las variables predictoras \"season\" y \"hour\" y calibre los parámetros que considere conveniente para obtener un mejor desempeño. Recuerde dividir los datos en conjuntos de entrenamiento y validación para esto. Comente el desempeño del modelo con alguna métrica de desempeño de modelos de regresión y compare desempeño con el modelo del punto 3."
   ]
  },
  {
   "cell_type": "code",
   "execution_count": 60,
   "metadata": {},
   "outputs": [],
   "source": [
    "# Celda 5\n",
    "\n",
    "# Importación de modelos sklearn\n",
    "from sklearn.tree import DecisionTreeRegressor\n",
    "from sklearn.model_selection import train_test_split\n",
    "from sklearn.metrics import mean_squared_error\n",
    "\n",
    "# Creación variables dummy para 'season'\n",
    "datos_arbol = pd.get_dummies(bikes, columns=['season'], drop_first=True)\n",
    "\n",
    "# Definición de las variables predictoras y la variable respuesta\n",
    "X = datos_arbol[['hour', 'season_2', 'season_3', 'season_4']]\n",
    "y = datos_arbol['total']\n"
   ]
  },
  {
   "cell_type": "code",
   "execution_count": 62,
   "metadata": {},
   "outputs": [],
   "source": [
    "# Dividir los datos en entrenamiento y validación para evitar sobre ajuste según lo mencionado en clase\n",
    "X_train, X_valid, y_train, y_valid = train_test_split(X, y, test_size=0.3, random_state=42)"
   ]
  },
  {
   "cell_type": "code",
   "execution_count": 71,
   "metadata": {},
   "outputs": [
    {
     "data": {
      "text/html": [
       "<style>#sk-container-id-3 {color: black;background-color: white;}#sk-container-id-3 pre{padding: 0;}#sk-container-id-3 div.sk-toggleable {background-color: white;}#sk-container-id-3 label.sk-toggleable__label {cursor: pointer;display: block;width: 100%;margin-bottom: 0;padding: 0.3em;box-sizing: border-box;text-align: center;}#sk-container-id-3 label.sk-toggleable__label-arrow:before {content: \"▸\";float: left;margin-right: 0.25em;color: #696969;}#sk-container-id-3 label.sk-toggleable__label-arrow:hover:before {color: black;}#sk-container-id-3 div.sk-estimator:hover label.sk-toggleable__label-arrow:before {color: black;}#sk-container-id-3 div.sk-toggleable__content {max-height: 0;max-width: 0;overflow: hidden;text-align: left;background-color: #f0f8ff;}#sk-container-id-3 div.sk-toggleable__content pre {margin: 0.2em;color: black;border-radius: 0.25em;background-color: #f0f8ff;}#sk-container-id-3 input.sk-toggleable__control:checked~div.sk-toggleable__content {max-height: 200px;max-width: 100%;overflow: auto;}#sk-container-id-3 input.sk-toggleable__control:checked~label.sk-toggleable__label-arrow:before {content: \"▾\";}#sk-container-id-3 div.sk-estimator input.sk-toggleable__control:checked~label.sk-toggleable__label {background-color: #d4ebff;}#sk-container-id-3 div.sk-label input.sk-toggleable__control:checked~label.sk-toggleable__label {background-color: #d4ebff;}#sk-container-id-3 input.sk-hidden--visually {border: 0;clip: rect(1px 1px 1px 1px);clip: rect(1px, 1px, 1px, 1px);height: 1px;margin: -1px;overflow: hidden;padding: 0;position: absolute;width: 1px;}#sk-container-id-3 div.sk-estimator {font-family: monospace;background-color: #f0f8ff;border: 1px dotted black;border-radius: 0.25em;box-sizing: border-box;margin-bottom: 0.5em;}#sk-container-id-3 div.sk-estimator:hover {background-color: #d4ebff;}#sk-container-id-3 div.sk-parallel-item::after {content: \"\";width: 100%;border-bottom: 1px solid gray;flex-grow: 1;}#sk-container-id-3 div.sk-label:hover label.sk-toggleable__label {background-color: #d4ebff;}#sk-container-id-3 div.sk-serial::before {content: \"\";position: absolute;border-left: 1px solid gray;box-sizing: border-box;top: 0;bottom: 0;left: 50%;z-index: 0;}#sk-container-id-3 div.sk-serial {display: flex;flex-direction: column;align-items: center;background-color: white;padding-right: 0.2em;padding-left: 0.2em;position: relative;}#sk-container-id-3 div.sk-item {position: relative;z-index: 1;}#sk-container-id-3 div.sk-parallel {display: flex;align-items: stretch;justify-content: center;background-color: white;position: relative;}#sk-container-id-3 div.sk-item::before, #sk-container-id-3 div.sk-parallel-item::before {content: \"\";position: absolute;border-left: 1px solid gray;box-sizing: border-box;top: 0;bottom: 0;left: 50%;z-index: -1;}#sk-container-id-3 div.sk-parallel-item {display: flex;flex-direction: column;z-index: 1;position: relative;background-color: white;}#sk-container-id-3 div.sk-parallel-item:first-child::after {align-self: flex-end;width: 50%;}#sk-container-id-3 div.sk-parallel-item:last-child::after {align-self: flex-start;width: 50%;}#sk-container-id-3 div.sk-parallel-item:only-child::after {width: 0;}#sk-container-id-3 div.sk-dashed-wrapped {border: 1px dashed gray;margin: 0 0.4em 0.5em 0.4em;box-sizing: border-box;padding-bottom: 0.4em;background-color: white;}#sk-container-id-3 div.sk-label label {font-family: monospace;font-weight: bold;display: inline-block;line-height: 1.2em;}#sk-container-id-3 div.sk-label-container {text-align: center;}#sk-container-id-3 div.sk-container {/* jupyter's `normalize.less` sets `[hidden] { display: none; }` but bootstrap.min.css set `[hidden] { display: none !important; }` so we also need the `!important` here to be able to override the default hidden behavior on the sphinx rendered scikit-learn.org. See: https://github.com/scikit-learn/scikit-learn/issues/21755 */display: inline-block !important;position: relative;}#sk-container-id-3 div.sk-text-repr-fallback {display: none;}</style><div id=\"sk-container-id-3\" class=\"sk-top-container\"><div class=\"sk-text-repr-fallback\"><pre>DecisionTreeRegressor(max_depth=4, min_samples_leaf=50, random_state=42)</pre><b>In a Jupyter environment, please rerun this cell to show the HTML representation or trust the notebook. <br />On GitHub, the HTML representation is unable to render, please try loading this page with nbviewer.org.</b></div><div class=\"sk-container\" hidden><div class=\"sk-item\"><div class=\"sk-estimator sk-toggleable\"><input class=\"sk-toggleable__control sk-hidden--visually\" id=\"sk-estimator-id-3\" type=\"checkbox\" checked><label for=\"sk-estimator-id-3\" class=\"sk-toggleable__label sk-toggleable__label-arrow\">DecisionTreeRegressor</label><div class=\"sk-toggleable__content\"><pre>DecisionTreeRegressor(max_depth=4, min_samples_leaf=50, random_state=42)</pre></div></div></div></div></div>"
      ],
      "text/plain": [
       "DecisionTreeRegressor(max_depth=4, min_samples_leaf=50, random_state=42)"
      ]
     },
     "execution_count": 71,
     "metadata": {},
     "output_type": "execute_result"
    }
   ],
   "source": [
    "# Creación y entrenamiento del árbol de decisión\n",
    "modelo_arbol = DecisionTreeRegressor(max_depth=4, min_samples_leaf=50, random_state=42)\n",
    "modelo_arbol.fit(X_train, y_train)"
   ]
  },
  {
   "cell_type": "code",
   "execution_count": 85,
   "metadata": {},
   "outputs": [
    {
     "name": "stdout",
     "output_type": "stream",
     "text": [
      " El RMSE del árbol de decisión es : 133.4845134165811\n"
     ]
    }
   ],
   "source": [
    "#EVALUAR EL DESEMPEÑO DEL ARBOL CREADO\n",
    "\n",
    "# Predecir en el conjunto de validación\n",
    "y_pred_arbol = modelo_arbol.predict(X_valid)\n",
    "\n",
    "# Calcular RMSE\n",
    "rmse_arbol = mean_squared_error(y_valid, y_pred_arbol, squared=False)\n",
    "print(\" El RMSE del árbol de decisión es :\", rmse_arbol)\n"
   ]
  },
  {
   "cell_type": "code",
   "execution_count": 81,
   "metadata": {},
   "outputs": [
    {
     "name": "stdout",
     "output_type": "stream",
     "text": [
      "El RMSE de la regresión lineal es: 159.9757265000345\n"
     ]
    }
   ],
   "source": [
    "#Compare desempeño con el modelo del punto 3\n",
    "\n",
    "modelo_lineal_validacion = LinearRegression()\n",
    "modelo_lineal_validacion.fit(X_train, y_train)\n",
    "\n",
    "y_pred_lineal = modelo_lineal_validacion.predict(X_valid)\n",
    "rmse_lineal = mean_squared_error(y_valid, y_pred_lineal, squared=False)\n",
    "print(\"El RMSE de la regresión lineal es:\", rmse_lineal)\n"
   ]
  },
  {
   "cell_type": "markdown",
   "metadata": {},
   "source": [
    "Al realizar la comparación de los moedelos entrenados, se puede observar que el árbol de decisión tiene un mejor desempeño que la regresión lineal ya que su RMSE es menor (133.48 Vs 159.98). Esto muestra que el árbol se ajusta mejor a la variaciones de los datos por que puede capturar mejor las relacione NO lineales entre la hora del día y el número de bicicletas alquiladas."
   ]
  },
  {
   "cell_type": "markdown",
   "metadata": {},
   "source": [
    "## Parte B - Métodos de ensamblajes\n",
    "En esta parte del taller se usará el conjunto de datos de Popularidad de Noticias Online. El objetivo es predecir si la notica es popular o no, la popularidad está dada por la cantidad de reacciones en redes sociales. Para más detalles puede visitar el siguiente enlace: [datos](https://archive.ics.uci.edu/ml/datasets/online+news+popularity)."
   ]
  },
  {
   "cell_type": "markdown",
   "metadata": {},
   "source": [
    "### Datos popularidad de noticias"
   ]
  },
  {
   "cell_type": "code",
   "execution_count": 95,
   "metadata": {},
   "outputs": [
    {
     "data": {
      "text/html": [
       "<div>\n",
       "<style scoped>\n",
       "    .dataframe tbody tr th:only-of-type {\n",
       "        vertical-align: middle;\n",
       "    }\n",
       "\n",
       "    .dataframe tbody tr th {\n",
       "        vertical-align: top;\n",
       "    }\n",
       "\n",
       "    .dataframe thead th {\n",
       "        text-align: right;\n",
       "    }\n",
       "</style>\n",
       "<table border=\"1\" class=\"dataframe\">\n",
       "  <thead>\n",
       "    <tr style=\"text-align: right;\">\n",
       "      <th></th>\n",
       "      <th>url</th>\n",
       "      <th>timedelta</th>\n",
       "      <th>n_tokens_title</th>\n",
       "      <th>n_tokens_content</th>\n",
       "      <th>n_unique_tokens</th>\n",
       "      <th>n_non_stop_words</th>\n",
       "      <th>n_non_stop_unique_tokens</th>\n",
       "      <th>num_hrefs</th>\n",
       "      <th>num_self_hrefs</th>\n",
       "      <th>num_imgs</th>\n",
       "      <th>...</th>\n",
       "      <th>min_positive_polarity</th>\n",
       "      <th>max_positive_polarity</th>\n",
       "      <th>avg_negative_polarity</th>\n",
       "      <th>min_negative_polarity</th>\n",
       "      <th>max_negative_polarity</th>\n",
       "      <th>title_subjectivity</th>\n",
       "      <th>title_sentiment_polarity</th>\n",
       "      <th>abs_title_subjectivity</th>\n",
       "      <th>abs_title_sentiment_polarity</th>\n",
       "      <th>Popular</th>\n",
       "    </tr>\n",
       "  </thead>\n",
       "  <tbody>\n",
       "    <tr>\n",
       "      <th>0</th>\n",
       "      <td>http://mashable.com/2014/12/10/cia-torture-rep...</td>\n",
       "      <td>28.0</td>\n",
       "      <td>9.0</td>\n",
       "      <td>188.0</td>\n",
       "      <td>0.732620</td>\n",
       "      <td>1.0</td>\n",
       "      <td>0.844262</td>\n",
       "      <td>5.0</td>\n",
       "      <td>1.0</td>\n",
       "      <td>1.0</td>\n",
       "      <td>...</td>\n",
       "      <td>0.200000</td>\n",
       "      <td>0.80</td>\n",
       "      <td>-0.487500</td>\n",
       "      <td>-0.60</td>\n",
       "      <td>-0.250000</td>\n",
       "      <td>0.9</td>\n",
       "      <td>0.8</td>\n",
       "      <td>0.4</td>\n",
       "      <td>0.8</td>\n",
       "      <td>1</td>\n",
       "    </tr>\n",
       "    <tr>\n",
       "      <th>1</th>\n",
       "      <td>http://mashable.com/2013/10/18/bitlock-kicksta...</td>\n",
       "      <td>447.0</td>\n",
       "      <td>7.0</td>\n",
       "      <td>297.0</td>\n",
       "      <td>0.653199</td>\n",
       "      <td>1.0</td>\n",
       "      <td>0.815789</td>\n",
       "      <td>9.0</td>\n",
       "      <td>4.0</td>\n",
       "      <td>1.0</td>\n",
       "      <td>...</td>\n",
       "      <td>0.160000</td>\n",
       "      <td>0.50</td>\n",
       "      <td>-0.135340</td>\n",
       "      <td>-0.40</td>\n",
       "      <td>-0.050000</td>\n",
       "      <td>0.1</td>\n",
       "      <td>-0.1</td>\n",
       "      <td>0.4</td>\n",
       "      <td>0.1</td>\n",
       "      <td>0</td>\n",
       "    </tr>\n",
       "    <tr>\n",
       "      <th>2</th>\n",
       "      <td>http://mashable.com/2013/07/24/google-glass-po...</td>\n",
       "      <td>533.0</td>\n",
       "      <td>11.0</td>\n",
       "      <td>181.0</td>\n",
       "      <td>0.660377</td>\n",
       "      <td>1.0</td>\n",
       "      <td>0.775701</td>\n",
       "      <td>4.0</td>\n",
       "      <td>3.0</td>\n",
       "      <td>1.0</td>\n",
       "      <td>...</td>\n",
       "      <td>0.136364</td>\n",
       "      <td>1.00</td>\n",
       "      <td>0.000000</td>\n",
       "      <td>0.00</td>\n",
       "      <td>0.000000</td>\n",
       "      <td>0.3</td>\n",
       "      <td>1.0</td>\n",
       "      <td>0.2</td>\n",
       "      <td>1.0</td>\n",
       "      <td>0</td>\n",
       "    </tr>\n",
       "    <tr>\n",
       "      <th>3</th>\n",
       "      <td>http://mashable.com/2013/11/21/these-are-the-m...</td>\n",
       "      <td>413.0</td>\n",
       "      <td>12.0</td>\n",
       "      <td>781.0</td>\n",
       "      <td>0.497409</td>\n",
       "      <td>1.0</td>\n",
       "      <td>0.677350</td>\n",
       "      <td>10.0</td>\n",
       "      <td>3.0</td>\n",
       "      <td>1.0</td>\n",
       "      <td>...</td>\n",
       "      <td>0.100000</td>\n",
       "      <td>1.00</td>\n",
       "      <td>-0.195701</td>\n",
       "      <td>-0.40</td>\n",
       "      <td>-0.071429</td>\n",
       "      <td>0.0</td>\n",
       "      <td>0.0</td>\n",
       "      <td>0.5</td>\n",
       "      <td>0.0</td>\n",
       "      <td>0</td>\n",
       "    </tr>\n",
       "    <tr>\n",
       "      <th>4</th>\n",
       "      <td>http://mashable.com/2014/02/11/parking-ticket-...</td>\n",
       "      <td>331.0</td>\n",
       "      <td>8.0</td>\n",
       "      <td>177.0</td>\n",
       "      <td>0.685714</td>\n",
       "      <td>1.0</td>\n",
       "      <td>0.830357</td>\n",
       "      <td>3.0</td>\n",
       "      <td>2.0</td>\n",
       "      <td>1.0</td>\n",
       "      <td>...</td>\n",
       "      <td>0.100000</td>\n",
       "      <td>0.55</td>\n",
       "      <td>-0.175000</td>\n",
       "      <td>-0.25</td>\n",
       "      <td>-0.100000</td>\n",
       "      <td>0.0</td>\n",
       "      <td>0.0</td>\n",
       "      <td>0.5</td>\n",
       "      <td>0.0</td>\n",
       "      <td>0</td>\n",
       "    </tr>\n",
       "  </tbody>\n",
       "</table>\n",
       "<p>5 rows × 61 columns</p>\n",
       "</div>"
      ],
      "text/plain": [
       "                                                 url  timedelta  \\\n",
       "0  http://mashable.com/2014/12/10/cia-torture-rep...       28.0   \n",
       "1  http://mashable.com/2013/10/18/bitlock-kicksta...      447.0   \n",
       "2  http://mashable.com/2013/07/24/google-glass-po...      533.0   \n",
       "3  http://mashable.com/2013/11/21/these-are-the-m...      413.0   \n",
       "4  http://mashable.com/2014/02/11/parking-ticket-...      331.0   \n",
       "\n",
       "   n_tokens_title  n_tokens_content  n_unique_tokens  n_non_stop_words  \\\n",
       "0             9.0             188.0         0.732620               1.0   \n",
       "1             7.0             297.0         0.653199               1.0   \n",
       "2            11.0             181.0         0.660377               1.0   \n",
       "3            12.0             781.0         0.497409               1.0   \n",
       "4             8.0             177.0         0.685714               1.0   \n",
       "\n",
       "   n_non_stop_unique_tokens  num_hrefs  num_self_hrefs  num_imgs  ...  \\\n",
       "0                  0.844262        5.0             1.0       1.0  ...   \n",
       "1                  0.815789        9.0             4.0       1.0  ...   \n",
       "2                  0.775701        4.0             3.0       1.0  ...   \n",
       "3                  0.677350       10.0             3.0       1.0  ...   \n",
       "4                  0.830357        3.0             2.0       1.0  ...   \n",
       "\n",
       "   min_positive_polarity  max_positive_polarity  avg_negative_polarity  \\\n",
       "0               0.200000                   0.80              -0.487500   \n",
       "1               0.160000                   0.50              -0.135340   \n",
       "2               0.136364                   1.00               0.000000   \n",
       "3               0.100000                   1.00              -0.195701   \n",
       "4               0.100000                   0.55              -0.175000   \n",
       "\n",
       "   min_negative_polarity  max_negative_polarity  title_subjectivity  \\\n",
       "0                  -0.60              -0.250000                 0.9   \n",
       "1                  -0.40              -0.050000                 0.1   \n",
       "2                   0.00               0.000000                 0.3   \n",
       "3                  -0.40              -0.071429                 0.0   \n",
       "4                  -0.25              -0.100000                 0.0   \n",
       "\n",
       "   title_sentiment_polarity  abs_title_subjectivity  \\\n",
       "0                       0.8                     0.4   \n",
       "1                      -0.1                     0.4   \n",
       "2                       1.0                     0.2   \n",
       "3                       0.0                     0.5   \n",
       "4                       0.0                     0.5   \n",
       "\n",
       "   abs_title_sentiment_polarity  Popular  \n",
       "0                           0.8        1  \n",
       "1                           0.1        0  \n",
       "2                           1.0        0  \n",
       "3                           0.0        0  \n",
       "4                           0.0        0  \n",
       "\n",
       "[5 rows x 61 columns]"
      ]
     },
     "execution_count": 95,
     "metadata": {},
     "output_type": "execute_result"
    }
   ],
   "source": [
    "# Lectura de la información de archivo .csv\n",
    "df = pd.read_csv('https://raw.githubusercontent.com/davidzarruk/MIAD_ML_NLP_2023/main/datasets/mashable.csv', index_col=0)\n",
    "df.head()"
   ]
  },
  {
   "cell_type": "code",
   "execution_count": 97,
   "metadata": {},
   "outputs": [
    {
     "data": {
      "text/plain": [
       "0.5"
      ]
     },
     "execution_count": 97,
     "metadata": {},
     "output_type": "execute_result"
    }
   ],
   "source": [
    "# Definición variable de interes y variables predictoras\n",
    "X = df.drop(['url', 'Popular'], axis=1)\n",
    "y = df['Popular']\n",
    "y.mean()"
   ]
  },
  {
   "cell_type": "code",
   "execution_count": 99,
   "metadata": {},
   "outputs": [],
   "source": [
    "# División de la muestra en set de entrenamiento y prueba\n",
    "from sklearn.model_selection import train_test_split\n",
    "X_train, X_test, y_train, y_test = train_test_split(X, y, random_state=1)"
   ]
  },
  {
   "cell_type": "markdown",
   "metadata": {},
   "source": [
    "### Punto 6 - Árbol de decisión y regresión logística\n",
    "En la celda 6 construya un árbol de decisión y una regresión logística. Para el árbol calibre al menos un parámetro y evalúe el desempeño de cada modelo usando las métricas de Accuracy y F1-Score."
   ]
  },
  {
   "cell_type": "code",
   "execution_count": 111,
   "metadata": {},
   "outputs": [
    {
     "name": "stdout",
     "output_type": "stream",
     "text": [
      "Árbol de decisión - Métrica Accuracy: 0.6373333333333333\n",
      "Árbol de decisión - Métrica F1 Score: 0.6616915422885573\n",
      "Regresión logística - Métrica Accuracy: 0.6166666666666667\n",
      "Regresión logística - Métrica F1 Score: 0.6015246015246014\n"
     ]
    }
   ],
   "source": [
    "# Construya un árbol de decisión \n",
    "\n",
    "from sklearn.tree import DecisionTreeClassifier\n",
    "from sklearn.metrics import accuracy_score, f1_score\n",
    "\n",
    "# Crear el árbol de decisión con profundidad máxima\n",
    "arbol = DecisionTreeClassifier(max_depth=5, random_state=1)\n",
    "arbol.fit(X_train, y_train)\n",
    "\n",
    "# Predicciones sobre el set de prueba\n",
    "y_pred_arbol = arbol.predict(X_test)\n",
    "\n",
    "# Evaluar desempeño en el árbol\n",
    "\n",
    "accuracy_arbol = accuracy_score(y_test, y_pred_arbol)\n",
    "f1_arbol = f1_score(y_test, y_pred_arbol)\n",
    "\n",
    "print(\"Árbol de decisión - Métrica Accuracy:\", accuracy_arbol)\n",
    "print(\"Árbol de decisión - Métrica F1 Score:\", f1_arbol)\n",
    "\n",
    "# Regresión logística\n",
    "\n",
    "from sklearn.linear_model import LogisticRegression\n",
    "\n",
    "# Entrenar modelo \n",
    "log_reg = LogisticRegression(max_iter=1000, random_state=1)\n",
    "log_reg.fit(X_train, y_train)\n",
    "\n",
    "# Predicciones\n",
    "y_pred_logreg = log_reg.predict(X_test)\n",
    "\n",
    "# Evaluar desempeño de la regresión logística\n",
    "\n",
    "accuracy_logreg = accuracy_score(y_test, y_pred_logreg)\n",
    "f1_logreg = f1_score(y_test, y_pred_logreg)\n",
    "\n",
    "print(\"Regresión logística - Métrica Accuracy:\", accuracy_logreg)\n",
    "print(\"Regresión logística - Métrica F1 Score:\", f1_logreg)\n"
   ]
  },
  {
   "cell_type": "markdown",
   "metadata": {},
   "source": [
    "### Punto 7 - Votación Mayoritaria\n",
    "En la celda 7 elabore un esamble con la metodología de **Votación mayoritaria** compuesto por 300 muestras bagged donde:\n",
    "\n",
    "-las primeras 100 muestras vienen de árboles de decisión donde max_depth tome un valor de su elección\\\n",
    "-las segundas 100 muestras vienen de árboles de decisión donde min_samples_leaf tome un valor de su elección\\\n",
    "-las últimas 100 muestras vienen de regresiones logísticas\n",
    "\n",
    "Evalúe cada uno de los tres modelos de manera independiente utilizando las métricas de Accuracy y F1-Score, luego evalúe el ensamble de modelos y compare los resultados. \n",
    "\n",
    "Nota: \n",
    "\n",
    "Para este ensamble de 300 modelos, deben hacer votación mayoritaria. Esto lo pueden hacer de distintas maneras. La más \"fácil\" es haciendo la votación \"manualmente\", como se hace a partir del minuto 5:45 del video de Ejemplo práctico de emsablajes en Coursera. Digo que es la más fácil porque si hacen la votación mayoritaria sobre las 300 predicciones van a obtener lo que se espera.\n",
    "\n",
    "Otra opción es: para cada uno de los 3 tipos de modelos, entrenar un ensamble de 100 modelos cada uno. Predecir para cada uno de esos tres ensambles y luego predecir como un ensamble de los 3 ensambles. La cuestión es que la votación mayoritaria al usar los 3 ensambles no necesariamente va a generar el mismo resultado que si hacen la votación mayoritaria directamente sobre los 300 modelos. Entonces, para los que quieran hacer esto, deben hacer ese último cálculo con cuidado.\n",
    "\n",
    "Para los que quieran hacerlo como ensamble de ensambles, digo que se debe hacer el ensamble final con cuidado por lo siguiente. Supongamos que:\n",
    "\n",
    "* para los 100 árboles del primer tipo, la votación mayoritaria es: 55% de los modelos predicen que la clase de una observación es \"1\"\n",
    "* para los 100 árboles del segundo tipo, la votación mayoritaria es: 55% de los modelos predicen que la clase de una observación es \"1\"\n",
    "* para las 100 regresiones logísticas, la votación mayoritaria es: 10% de los modelos predicen que la clase de una observación es \"1\"\n",
    "\n",
    "Si se hace la votación mayoritaria de los 300 modelos, la predicción de esa observación debería ser: (100*55%+100*55%+100*10%)/300 = 40% de los modelos votan porque la predicción debería ser \"1\". Es decir, la predicción del ensamble es \"0\" (dado que menos del 50% de modelos predijo un 1).\n",
    "\n",
    "Sin embargo, si miramos cada ensamble por separado, el primer ensamble predice \"1\", el segundo ensamble predice \"1\" y el último ensamble predice \"0\". Si hago votación mayoritaria sobre esto, la predicción va a ser \"1\", lo cual es distinto a si se hace la votación mayoritaria sobre los 300 modelos."
   ]
  },
  {
   "cell_type": "code",
   "execution_count": 147,
   "metadata": {
    "scrolled": true
   },
   "outputs": [],
   "source": [
    "# Imporatación de Libreria y creación de listas\n",
    "\n",
    "import numpy as np\n",
    "from sklearn.tree import DecisionTreeClassifier\n",
    "from sklearn.linear_model import LogisticRegression\n",
    "from sklearn.utils import resample\n",
    "\n",
    "# Crear listas vacías para almacenar predicciones\n",
    "preds_arbol_1 = []\n",
    "preds_arbol_2 = []\n",
    "preds_logreg = []\n"
   ]
  },
  {
   "cell_type": "code",
   "execution_count": 149,
   "metadata": {},
   "outputs": [],
   "source": [
    "# Creamos el primer grupo – 100 árboles con max_depth=5\n",
    "\n",
    "for i in range(100):\n",
    "    # Hago muestreo bootstrap del set de entrenamiento\n",
    "    X_sample, y_sample = resample(X_train, y_train, replace=True, random_state=i)\n",
    "    \n",
    "    # Árbol con profundidad fija\n",
    "    modelo = DecisionTreeClassifier(max_depth=5, random_state=i)\n",
    "    modelo.fit(X_sample, y_sample)\n",
    "    \n",
    "    # Predicción sobre el set de prueba\n",
    "    pred = modelo.predict(X_test)\n",
    "    preds_arbol_1.append(pred)\n"
   ]
  },
  {
   "cell_type": "code",
   "execution_count": 150,
   "metadata": {},
   "outputs": [],
   "source": [
    "# Creamos el segundo grupo – 100 árboles con min_samples_leaf=10\n",
    "\n",
    "for i in range(100, 200):\n",
    "    X_sample, y_sample = resample(X_train, y_train, replace=True, random_state=i)\n",
    "    \n",
    "    modelo = DecisionTreeClassifier(min_samples_leaf=10, random_state=i)\n",
    "    modelo.fit(X_sample, y_sample)\n",
    "    \n",
    "    pred = modelo.predict(X_test)\n",
    "    preds_arbol_2.append(pred)"
   ]
  },
  {
   "cell_type": "code",
   "execution_count": 151,
   "metadata": {},
   "outputs": [],
   "source": [
    "# Creamos el tercer grupo – 100 con regresiones logísticas\n",
    "\n",
    "for i in range(200, 300):\n",
    "    X_sample, y_sample = resample(X_train, y_train, replace=True, random_state=i)\n",
    "    \n",
    "    modelo = LogisticRegression(max_iter=1000, random_state=i)\n",
    "    modelo.fit(X_sample, y_sample)\n",
    "    \n",
    "    pred = modelo.predict(X_test)\n",
    "    preds_logreg.append(pred)"
   ]
  },
  {
   "cell_type": "code",
   "execution_count": 153,
   "metadata": {},
   "outputs": [],
   "source": [
    "# Convertir listas a arrays para manejarlas como matrices\n",
    "\n",
    "preds_arbol_1 = np.array(preds_arbol_1)\n",
    "preds_arbol_2 = np.array(preds_arbol_2)\n",
    "preds_logreg = np.array(preds_logreg)\n",
    "\n",
    "# unir los modelos \n",
    "predicciones_totales = np.concatenate([preds_arbol_1, preds_arbol_2, preds_logreg], axis=0)\n",
    "\n",
    "# Votación mayoritaria: para cada observación, sumamos las predicciones y tomamos la mayoría\n",
    "from scipy.stats import mode\n",
    "prediccion_final = (np.mean(predicciones_totales, axis=0) > 0.5).astype(int)\n"
   ]
  },
  {
   "cell_type": "code",
   "execution_count": 159,
   "metadata": {},
   "outputs": [
    {
     "name": "stdout",
     "output_type": "stream",
     "text": [
      "Modelo de Árboles max_depth:        - Accuracy: 0.6506666666666666 | F1: 0.6469002695417789\n",
      "Modelo de Árboles min_samples_leaf: - Accuracy: 0.648 | F1: 0.6333333333333333\n",
      "Modelo de Regresiones logísticas:   - Accuracy: 0.6146666666666667 | F1: 0.6019283746556474\n"
     ]
    }
   ],
   "source": [
    "# Validación de cada modelo y su desempeño individual:\n",
    "\n",
    "from sklearn.metrics import accuracy_score, f1_score\n",
    "\n",
    "# Evaluación individual\n",
    "pred_arbol_1 = (np.mean(preds_arbol_1, axis=0) > 0.5).astype(int)\n",
    "pred_arbol_2 = (np.mean(preds_arbol_2, axis=0) > 0.5).astype(int)\n",
    "pred_logreg  = (np.mean(preds_logreg, axis=0)  > 0.5).astype(int)\n",
    "\n",
    "# Accuracy y F1\n",
    "print(\"Modelo de Árboles max_depth:        - Accuracy:\", accuracy_score(y_test, pred_arbol_1), \"| F1:\", f1_score(y_test, pred_arbol_1))\n",
    "print(\"Modelo de Árboles min_samples_leaf: - Accuracy:\", accuracy_score(y_test, pred_arbol_2), \"| F1:\", f1_score(y_test, pred_arbol_2))\n",
    "print(\"Modelo de Regresiones logísticas:   - Accuracy:\", accuracy_score(y_test, pred_logreg), \"| F1:\", f1_score(y_test, pred_logreg))\n"
   ]
  },
  {
   "cell_type": "code",
   "execution_count": 133,
   "metadata": {},
   "outputs": [
    {
     "name": "stdout",
     "output_type": "stream",
     "text": [
      "Ensamble completo (300 modelos) - Accuracy: 0.638\n",
      "Ensamble completo (300 modelos) - F1 Score: 0.6283367556468172\n"
     ]
    }
   ],
   "source": [
    "# verificación final del ensamble realizado:\n",
    "\n",
    "accuracy_ensamble = accuracy_score(y_test, prediccion_final)\n",
    "f1_ensamble = f1_score(y_test, prediccion_final)\n",
    "\n",
    "print(\"Ensamble completo (300 modelos) - Accuracy:\", accuracy_ensamble)\n",
    "print(\"Ensamble completo (300 modelos) - F1 Score:\", f1_ensamble)\n"
   ]
  },
  {
   "cell_type": "markdown",
   "metadata": {},
   "source": [
    "Comparación de los resultados Obtenidos:\n",
    "\n",
    "Al evaluar el desempeño de cada uno de los tres ensambles por separado, se encuentra que los árboles con profundidad controlada presentan un mejor desempeño, seguidos relativamente cerca por los árboles de control sobre el número demínimo de las hojas; la regresiones logísticas obtivieron el desempeño más bajo, lo cual ya se esperaba por tratarse de un problema no lineal.\n",
    "\n",
    "el modelo de ensamble completo de los 300 modelos presenta in resultado intermedio por la combinación de los árboles con la estabilidad de la regresión pero no superó al mejor modelo individual. Se generó un F1 Score muy competitivo evidenciando que la votación mayoritaria si mejora la estabilidad de las predicciones por que redice la varianza.\n"
   ]
  },
  {
   "cell_type": "markdown",
   "metadata": {},
   "source": [
    "### Punto 8 - Votación Ponderada\n",
    "En la celda 8 elabore un ensamble con la metodología de **Votación ponderada** compuesto por 300 muestras bagged para los mismos tres escenarios del punto 7. Evalúe los modelos utilizando las métricas de Accuracy y F1-Score"
   ]
  },
  {
   "cell_type": "code",
   "execution_count": 165,
   "metadata": {},
   "outputs": [],
   "source": [
    "peso_arbol_1 = f1_score(y_test, pred_arbol_1)  # ~0.647\n",
    "peso_arbol_2 = f1_score(y_test, pred_arbol_2)  # ~0.633\n",
    "peso_logreg  = f1_score(y_test, pred_logreg)   # ~0.602"
   ]
  },
  {
   "cell_type": "code",
   "execution_count": 173,
   "metadata": {},
   "outputs": [],
   "source": [
    "#Calculamos la predicción final ponderada\n",
    "\n",
    "# Combinamos las predicciones con pesos\n",
    "\n",
    "ponderacion_total = (\n",
    "    peso_arbol_1 * np.mean(preds_arbol_1, axis=0) +\n",
    "    peso_arbol_2 * np.mean(preds_arbol_2, axis=0) +\n",
    "    peso_logreg  * np.mean(preds_logreg, axis=0)\n",
    ")\n",
    "\n",
    "# Normalizar por la suma de pesos \n",
    "suma_pesos = peso_arbol_1 + peso_arbol_2 + peso_logreg\n",
    "prediccion_ponderada = (ponderacion_total / suma_pesos > 0.5).astype(int)\n"
   ]
  },
  {
   "cell_type": "code",
   "execution_count": 176,
   "metadata": {},
   "outputs": [
    {
     "name": "stdout",
     "output_type": "stream",
     "text": [
      "Ensamble ponderado - Accuracy: 0.6406666666666667\n",
      "Ensamble ponderado - F1 Score: 0.6300617707618393\n"
     ]
    }
   ],
   "source": [
    "#Evaluar el ensamble ponderado\n",
    "\n",
    "accuracy_ponderado = accuracy_score(y_test, prediccion_ponderada)\n",
    "f1_ponderado = f1_score(y_test, prediccion_ponderada)\n",
    "\n",
    "print(\"Ensamble ponderado - Accuracy:\", accuracy_ponderado)\n",
    "print(\"Ensamble ponderado - F1 Score:\", f1_ponderado)\n"
   ]
  },
  {
   "cell_type": "markdown",
   "metadata": {},
   "source": [
    "En el caso de a votación ponderada se les asignó un mayor peso a los modelos más precisos según el F1 Score individual generado.\n",
    "De esta forma el ensamble permite que se favorezcan las predicciones de los modelos más confiables. Al verificar el resultado final se evidenció un desempeño ligeramente superior el promedio simple (mayoría), esto muestra que ponderar por calidad puede servir cuando se tienen modelos con otros desempeños "
   ]
  },
  {
   "cell_type": "markdown",
   "metadata": {},
   "source": [
    "### Punto 9 - Comparación y análisis de resultados\n",
    "En la celda 9 comente sobre los resultados obtenidos con las metodologías usadas en los puntos 7 y 8, compare los resultados y enuncie posibles ventajas o desventajas de cada una de ellas."
   ]
  },
  {
   "cell_type": "markdown",
   "metadata": {},
   "source": [
    "Al comparar el ensamble sobre el conjunto de 300 modelos realizado con votación mayoritaria y el ensamble ponderado, se observa que el segundo modelo generó un ligero aumento en las métricas , tanto en Accuracy como en F1 Score, El ensamble por mayoría alcanzó un Accuracy de 0.638 y un F1 Score de 0.628; El ensamble ponderado superó levemente estos valores, con un Accuracy de 0.641 y un F1 Score de 0.630.\n",
    "\n",
    "Comparación de resultados finales (Puntos 7 y 8):\n",
    "\n",
    "| Modelo                      | Accuracy | F1 Score |\n",
    "|-----------------------------|----------|----------|\n",
    "| Votación Mayoritaria     | 0.638    | 0.628    |\n",
    "| Votación Ponderada    | 0.641    | 0.630    |\n",
    "\n",
    "\n",
    "* Método de votación Mayoritaria:\n",
    "\n",
    "Ventajas: Es sencillo de implementar, reduce la varianza\n",
    "Desventaja: Trata todos los modelos como iguales, incluso si su desempeño varía\n",
    "\n",
    "* Método de votación Ponderada:\n",
    "  \n",
    "Ventajas: considera el desempeño individual de cada modelo, mejora el balance si hay modelos más confiables.\n",
    "Desventajas: Se necesita calcular los pesos\n"
   ]
  }
 ],
 "metadata": {
  "kernelspec": {
   "display_name": "Python 3",
   "language": "python",
   "name": "python3"
  },
  "language_info": {
   "codemirror_mode": {
    "name": "ipython",
    "version": 3
   },
   "file_extension": ".py",
   "mimetype": "text/x-python",
   "name": "python",
   "nbconvert_exporter": "python",
   "pygments_lexer": "ipython3",
   "version": "3.7.6"
  }
 },
 "nbformat": 4,
 "nbformat_minor": 4
}
